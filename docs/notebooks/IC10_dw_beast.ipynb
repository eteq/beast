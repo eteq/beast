{
 "cells": [
  {
   "cell_type": "code",
   "execution_count": 7,
   "metadata": {},
   "outputs": [],
   "source": [
    "import numpy as np\n",
    "\n",
    "import beast\n",
    "from astroquery.mast import Observations\n",
    "\n",
    "%matplotlib inline\n",
    "from matplotlib import pyplot as plt"
   ]
  },
  {
   "cell_type": "code",
   "execution_count": 10,
   "metadata": {},
   "outputs": [
    {
     "data": {
      "text/plain": [
       "427"
      ]
     },
     "execution_count": 10,
     "metadata": {},
     "output_type": "execute_result"
    }
   ],
   "source": [
    "ic10obs = Observations.query_object('ic 10')\n",
    "len(ic10obs)"
   ]
  },
  {
   "cell_type": "code",
   "execution_count": 31,
   "metadata": {},
   "outputs": [
    {
     "data": {
      "text/plain": [
       "<matplotlib.colorbar.Colorbar at 0x11eb980f0>"
      ]
     },
     "execution_count": 31,
     "metadata": {},
     "output_type": "execute_result"
    },
    {
     "data": {
      "image/png": "[encoded data removed]",
      "text/plain": [
       "<Figure size 432x288 with 2 Axes>"
      ]
     },
     "metadata": {
      "needs_background": "light"
     },
     "output_type": "display_data"
    }
   ],
   "source": [
    "ic10acsobs = ic10obs[(ic10obs['instrument_name']=='ACS/WFC')&(ic10obs['project']=='HST')]\n",
    "plt.scatter(ic10acsobs['s_ra'], ic10acsobs['s_dec'], c=ic10acsobs['t_exptime'], alpha=.25)\n",
    "plt.colorbar()"
   ]
  },
  {
   "cell_type": "code",
   "execution_count": 37,
   "metadata": {},
   "outputs": [
    {
     "data": {
      "text/plain": [
       "{'F435W': 2040.0,\n",
       " 'F606W': 2160.0,\n",
       " 'F814W': 11897.99980783369,\n",
       " 'F555W': 19840.0}"
      ]
     },
     "execution_count": 37,
     "metadata": {},
     "output_type": "execute_result"
    }
   ],
   "source": [
    "fexps = {}\n",
    "for row in ic10acsobs:\n",
    "    f = row['filters']\n",
    "    fexps.setdefault(f, 0)\n",
    "    fexps[f] += row['t_exptime']\n",
    "fexps"
   ]
  },
  {
   "cell_type": "markdown",
   "metadata": {},
   "source": [
    "Turns out almost all of the F814W/F555W are PID 10242 in one pointing"
   ]
  },
  {
   "cell_type": "code",
   "execution_count": 55,
   "metadata": {},
   "outputs": [
    {
     "data": {
      "text/html": [
       "<i>Table masked=True length=12</i>\n",
       "<table id=\"table4851171736\" class=\"table-striped table-bordered table-condensed\">\n",
       "<thead><tr><th>intentType</th><th>obs_collection</th><th>instrument_name</th><th>project</th><th>filters</th><th>wavelength_region</th><th>target_name</th><th>target_classification</th><th>obs_id</th><th>s_ra</th><th>s_dec</th><th>proposal_id</th><th>proposal_pi</th><th>dataproduct_type</th><th>calib_level</th><th>t_min</th><th>t_max</th><th>t_exptime</th><th>em_min</th><th>em_max</th><th>obs_title</th><th>t_obs_release</th><th>proposal_type</th><th>sequence_number</th><th>s_region</th><th>jpegURL</th><th>dataURL</th><th>dataRights</th><th>mtFlag</th><th>srcDen</th><th>obsid</th><th>objID</th><th>distance</th></tr></thead>\n",
       "<thead><tr><th>str7</th><th>str5</th><th>str11</th><th>str3</th><th>str17</th><th>str16</th><th>str16</th><th>str51</th><th>str38</th><th>float64</th><th>float64</th><th>str5</th><th>str18</th><th>str8</th><th>int64</th><th>float64</th><th>float64</th><th>float64</th><th>float64</th><th>float64</th><th>str79</th><th>float64</th><th>str8</th><th>int64</th><th>str1268</th><th>str172</th><th>str193</th><th>str6</th><th>bool</th><th>float64</th><th>str11</th><th>str11</th><th>float64</th></tr></thead>\n",
       "<tr><td>science</td><td>HST</td><td>ACS/WFC</td><td>HST</td><td>F814W</td><td>Optical</td><td>IC10-BAR</td><td>GALAXY;STARBURST;DWARF COMPACT;MAGELLANIC IRREGULAR</td><td>j93801010</td><td>5.057083333333</td><td>59.33975</td><td>10242</td><td>Cole, Andrew A.</td><td>image</td><td>3</td><td>53378.94809028</td><td>53379.01556713</td><td>2380.0</td><td>708.0</td><td>959.0</td><td>Pre-History of a Starburst: Deep Imaging of IC 10</td><td>53745.57119</td><td>GO</td><td>--</td><td>POLYGON 4.97468809 59.3426434 5.0404955 59.29676175 5.12406652 59.33333948 5.124036050122653 59.333362010226665 5.12407654 59.3333797 5.06217774 59.37907305 4.97469793 59.34268363 4.97473039758561 59.342661031963061 4.97468809 59.3426434 4.97468809 59.3426434</td><td>mast:HST/product/j93801010_drz.jpg</td><td>mast:HST/product/j93801010_drz.fits</td><td>PUBLIC</td><td>False</td><td>--</td><td>2003868083</td><td>2026454367</td><td>18.84102566556607</td></tr>\n",
       "<tr><td>science</td><td>HST</td><td>ACS/WFC</td><td>HST</td><td>F555W</td><td>Optical</td><td>IC10-BAR</td><td>GALAXY;STARBURST;DWARF COMPACT;MAGELLANIC IRREGULAR</td><td>j93801020</td><td>5.057083333333</td><td>59.33975</td><td>10242</td><td>Cole, Andrew A.</td><td>image</td><td>3</td><td>53379.07303241</td><td>53379.14876157</td><td>2480.0</td><td>470.0</td><td>620.0</td><td>Pre-History of a Starburst: Deep Imaging of IC 10</td><td>53745.57816</td><td>GO</td><td>--</td><td>POLYGON 4.97468809 59.3426434 5.0404955 59.29676175 5.12406652 59.33333948 5.124036050122653 59.333362010226665 5.12407654 59.3333797 5.06217774 59.37907305 4.97469793 59.34268363 4.97473039758561 59.342661031963061 4.97468809 59.3426434 4.97468809 59.3426434</td><td>mast:HST/product/j93801020_drz.jpg</td><td>mast:HST/product/j93801020_drz.fits</td><td>PUBLIC</td><td>False</td><td>--</td><td>2003868084</td><td>2026406591</td><td>18.84102566556607</td></tr>\n",
       "<tr><td>science</td><td>HST</td><td>ACS/WFC</td><td>HST</td><td>F555W</td><td>Optical</td><td>IC10-BAR</td><td>GALAXY;STARBURST;DWARF COMPACT;MAGELLANIC IRREGULAR</td><td>j93801030</td><td>5.057083333333</td><td>59.33975</td><td>10242</td><td>Cole, Andrew A.</td><td>image</td><td>3</td><td>53379.20622685</td><td>53379.23309028</td><td>2480.0</td><td>470.0</td><td>620.0</td><td>Pre-History of a Starburst: Deep Imaging of IC 10</td><td>53745.57836</td><td>GO</td><td>--</td><td>POLYGON 4.97468809 59.3426434 5.0404955 59.29676175 5.12406652 59.33333948 5.124036050122653 59.333362010226665 5.12407654 59.3333797 5.06217774 59.37907305 4.97469793 59.34268363 4.97473039758561 59.342661031963061 4.97468809 59.3426434 4.97468809 59.3426434</td><td>mast:HST/product/j93801030_drz.jpg</td><td>mast:HST/product/j93801030_drz.fits</td><td>PUBLIC</td><td>False</td><td>--</td><td>2003868085</td><td>2026407367</td><td>18.84102566556607</td></tr>\n",
       "<tr><td>science</td><td>HST</td><td>ACS/WFC</td><td>HST</td><td>F814W</td><td>Optical</td><td>IC10-BAR</td><td>GALAXY;STARBURST;DWARF COMPACT;MAGELLANIC IRREGULAR</td><td>j93802010</td><td>5.057083333333</td><td>59.33975</td><td>10242</td><td>Cole, Andrew A.</td><td>image</td><td>3</td><td>53380.27252315</td><td>53380.29975694</td><td>2380.0</td><td>708.0</td><td>959.0</td><td>Pre-History of a Starburst: Deep Imaging of IC 10</td><td>53745.74279</td><td>GO</td><td>--</td><td>POLYGON 4.97468809 59.3426434 5.0404955 59.29676175 5.12406652 59.33333948 5.124036050122653 59.333362010226665 5.12407654 59.3333797 5.06217774 59.37907305 4.97469793 59.34268363 4.97473039758561 59.342661031963061 4.97468809 59.3426434 4.97468809 59.3426434</td><td>mast:HST/product/j93802010_drz.jpg</td><td>mast:HST/product/j93802010_drz.fits</td><td>PUBLIC</td><td>False</td><td>--</td><td>2003868086</td><td>2026454566</td><td>18.84102566556607</td></tr>\n",
       "<tr><td>science</td><td>HST</td><td>ACS/WFC</td><td>HST</td><td>F555W</td><td>Optical</td><td>IC10-BAR</td><td>GALAXY;STARBURST;DWARF COMPACT;MAGELLANIC IRREGULAR</td><td>j93802020</td><td>5.057083333333</td><td>59.33975</td><td>10242</td><td>Cole, Andrew A.</td><td>image</td><td>3</td><td>53380.33836806</td><td>53380.36569444</td><td>2480.0</td><td>470.0</td><td>620.0</td><td>Pre-History of a Starburst: Deep Imaging of IC 10</td><td>53745.77122</td><td>GO</td><td>--</td><td>POLYGON 4.97468809 59.3426434 5.0404955 59.29676175 5.12406652 59.33333948 5.1240360501223732 59.333362010226537 5.12407654 59.3333797 5.06217774 59.37907305 4.97469793 59.34268363 4.9747303975857387 59.342661031962969 4.97468809 59.3426434 4.97468809 59.3426434</td><td>mast:HST/product/j93802020_drz.jpg</td><td>mast:HST/product/j93802020_drz.fits</td><td>PUBLIC</td><td>False</td><td>--</td><td>2003868087</td><td>2026456423</td><td>18.84102566556607</td></tr>\n",
       "<tr><td>science</td><td>HST</td><td>ACS/WFC</td><td>HST</td><td>F555W</td><td>Optical</td><td>IC10-BAR</td><td>GALAXY;STARBURST;DWARF COMPACT;MAGELLANIC IRREGULAR</td><td>j93802030</td><td>5.057083333333</td><td>59.33975</td><td>10242</td><td>Cole, Andrew A.</td><td>image</td><td>3</td><td>53380.40496528</td><td>53380.4318287</td><td>2480.0</td><td>470.0</td><td>620.0</td><td>Pre-History of a Starburst: Deep Imaging of IC 10</td><td>53745.80664</td><td>GO</td><td>--</td><td>POLYGON 4.97468809 59.3426434 5.0404955 59.29676175 5.12406652 59.33333948 5.124036050122653 59.333362010226665 5.12407654 59.3333797 5.06217774 59.37907305 4.97469793 59.34268363 4.97473039758561 59.342661031963061 4.97468809 59.3426434 4.97468809 59.3426434</td><td>mast:HST/product/j93802030_drz.jpg</td><td>mast:HST/product/j93802030_drz.fits</td><td>PUBLIC</td><td>False</td><td>--</td><td>2003868088</td><td>2026406586</td><td>18.84102566556607</td></tr>\n",
       "<tr><td>science</td><td>HST</td><td>ACS/WFC</td><td>HST</td><td>F814W</td><td>Optical</td><td>IC10-BAR</td><td>GALAXY;STARBURST;DWARF COMPACT;MAGELLANIC IRREGULAR</td><td>j93803010</td><td>5.057083333333</td><td>59.33975</td><td>10242</td><td>Cole, Andrew A.</td><td>image</td><td>3</td><td>53382.01361111</td><td>53382.0790162</td><td>2597.99980783369</td><td>708.0</td><td>959.0</td><td>Pre-History of a Starburst: Deep Imaging of IC 10</td><td>53747.62889</td><td>GO</td><td>--</td><td>POLYGON 4.97468809 59.3426434 5.0404955 59.29676175 5.12406652 59.33333948 5.124036050122653 59.333362010226665 5.12407654 59.3333797 5.06217774 59.37907305 4.97469793 59.34268363 4.97473039758561 59.342661031963061 4.97468809 59.3426434 4.97468809 59.3426434</td><td>mast:HST/product/j93803010_drz.jpg</td><td>mast:HST/product/j93803010_drz.fits</td><td>PUBLIC</td><td>False</td><td>--</td><td>2003868089</td><td>2026452021</td><td>18.84102566556607</td></tr>\n",
       "<tr><td>science</td><td>HST</td><td>ACS/WFC</td><td>HST</td><td>F555W</td><td>Optical</td><td>IC10-BAR</td><td>GALAXY;STARBURST;DWARF COMPACT;MAGELLANIC IRREGULAR</td><td>j93803020</td><td>5.057083333333</td><td>59.33975</td><td>10242</td><td>Cole, Andrew A.</td><td>image</td><td>3</td><td>53382.13648148</td><td>53382.16380787</td><td>2480.0</td><td>470.0</td><td>620.0</td><td>Pre-History of a Starburst: Deep Imaging of IC 10</td><td>53747.65743</td><td>GO</td><td>--</td><td>POLYGON 4.97468809 59.3426434 5.0404955 59.29676175 5.12406652 59.33333948 5.124036050122653 59.333362010226665 5.12407654 59.3333797 5.06217774 59.37907305 4.97469793 59.34268363 4.97473039758561 59.342661031963061 4.97468809 59.3426434 4.97468809 59.3426434</td><td>mast:HST/product/j93803020_drz.jpg</td><td>mast:HST/product/j93803020_drz.fits</td><td>PUBLIC</td><td>False</td><td>--</td><td>2003868090</td><td>2026406606</td><td>18.84102566556607</td></tr>\n",
       "<tr><td>science</td><td>HST</td><td>ACS/WFC</td><td>HST</td><td>F555W</td><td>Optical</td><td>IC10-BAR</td><td>GALAXY;STARBURST;DWARF COMPACT;MAGELLANIC IRREGULAR</td><td>j93803030</td><td>5.057083333333</td><td>59.33975</td><td>10242</td><td>Cole, Andrew A.</td><td>image</td><td>3</td><td>53382.20306713</td><td>53382.22993056</td><td>2480.0</td><td>470.0</td><td>620.0</td><td>Pre-History of a Starburst: Deep Imaging of IC 10</td><td>53747.68622</td><td>GO</td><td>--</td><td>POLYGON 4.97468809 59.3426434 5.0404955 59.29676175 5.12406652 59.33333948 5.124036050122653 59.333362010226665 5.12407654 59.3333797 5.06217774 59.37907305 4.97469793 59.34268363 4.97473039758561 59.342661031963061 4.97468809 59.3426434 4.97468809 59.3426434</td><td>mast:HST/product/j93803030_drz.jpg</td><td>mast:HST/product/j93803030_drz.fits</td><td>PUBLIC</td><td>False</td><td>--</td><td>2003868091</td><td>2026407320</td><td>18.84102566556607</td></tr>\n",
       "<tr><td>science</td><td>HST</td><td>ACS/WFC</td><td>HST</td><td>F814W</td><td>Optical</td><td>IC10-BAR</td><td>GALAXY;STARBURST;DWARF COMPACT;MAGELLANIC IRREGULAR</td><td>j93804010</td><td>5.057083333333</td><td>59.33975</td><td>10242</td><td>Cole, Andrew A.</td><td>image</td><td>3</td><td>53383.01288194</td><td>53383.07793981</td><td>2380.0</td><td>708.0</td><td>959.0</td><td>Pre-History of a Starburst: Deep Imaging of IC 10</td><td>53748.31211</td><td>GO</td><td>--</td><td>POLYGON 4.97468809 59.3426434 5.0404955 59.29676175 5.12406652 59.33333948 5.124036050122653 59.333362010226665 5.12407654 59.3333797 5.06217774 59.37907305 4.97469793 59.34268363 4.97473039758561 59.342661031963061 4.97468809 59.3426434 4.97468809 59.3426434</td><td>mast:HST/product/j93804010_drz.jpg</td><td>mast:HST/product/j93804010_drz.fits</td><td>PUBLIC</td><td>False</td><td>--</td><td>2003868092</td><td>2026454177</td><td>18.84102566556607</td></tr>\n",
       "<tr><td>science</td><td>HST</td><td>ACS/WFC</td><td>HST</td><td>F555W</td><td>Optical</td><td>IC10-BAR</td><td>GALAXY;STARBURST;DWARF COMPACT;MAGELLANIC IRREGULAR</td><td>j93804020</td><td>5.057083333333</td><td>59.33975</td><td>10242</td><td>Cole, Andrew A.</td><td>image</td><td>3</td><td>53383.13539352</td><td>53383.16271991</td><td>2480.0</td><td>470.0</td><td>620.0</td><td>Pre-History of a Starburst: Deep Imaging of IC 10</td><td>53748.34052</td><td>GO</td><td>--</td><td>POLYGON 4.97468809 59.3426434 5.0404955 59.29676175 5.12406652 59.33333948 5.124036050122653 59.333362010226665 5.12407654 59.3333797 5.06217774 59.37907305 4.97469793 59.34268363 4.97473039758561 59.342661031963061 4.97468809 59.3426434 4.97468809 59.3426434</td><td>mast:HST/product/j93804020_drz.jpg</td><td>mast:HST/product/j93804020_drz.fits</td><td>PUBLIC</td><td>False</td><td>--</td><td>2003868093</td><td>2026406687</td><td>18.84102566556607</td></tr>\n",
       "<tr><td>science</td><td>HST</td><td>ACS/WFC</td><td>HST</td><td>F555W</td><td>Optical</td><td>IC10-BAR</td><td>GALAXY;STARBURST;DWARF COMPACT;MAGELLANIC IRREGULAR</td><td>j93804030</td><td>5.057083333333</td><td>59.33975</td><td>10242</td><td>Cole, Andrew A.</td><td>image</td><td>3</td><td>53383.20199074</td><td>53383.22885417</td><td>2480.0</td><td>470.0</td><td>620.0</td><td>Pre-History of a Starburst: Deep Imaging of IC 10</td><td>53748.50256</td><td>GO</td><td>--</td><td>POLYGON 4.97468809 59.3426434 5.0404955 59.29676175 5.12406652 59.33333948 5.124036050122653 59.333362010226665 5.12407654 59.3333797 5.06217774 59.37907305 4.97469793 59.34268363 4.97473039758561 59.342661031963061 4.97468809 59.3426434 4.97468809 59.3426434</td><td>mast:HST/product/j93804030_drz.jpg</td><td>mast:HST/product/j93804030_drz.fits</td><td>PUBLIC</td><td>False</td><td>--</td><td>2003868094</td><td>2026419194</td><td>18.84102566556607</td></tr>\n",
       "</table>"
      ],
      "text/plain": [
       "<Table masked=True length=12>\n",
       "intentType obs_collection instrument_name ...   objID         distance    \n",
       "   str7         str5           str11      ...   str11         float64     \n",
       "---------- -------------- --------------- ... ---------- -----------------\n",
       "   science            HST         ACS/WFC ... 2026454367 18.84102566556607\n",
       "   science            HST         ACS/WFC ... 2026406591 18.84102566556607\n",
       "   science            HST         ACS/WFC ... 2026407367 18.84102566556607\n",
       "   science            HST         ACS/WFC ... 2026454566 18.84102566556607\n",
       "   science            HST         ACS/WFC ... 2026456423 18.84102566556607\n",
       "   science            HST         ACS/WFC ... 2026406586 18.84102566556607\n",
       "   science            HST         ACS/WFC ... 2026452021 18.84102566556607\n",
       "   science            HST         ACS/WFC ... 2026406606 18.84102566556607\n",
       "   science            HST         ACS/WFC ... 2026407320 18.84102566556607\n",
       "   science            HST         ACS/WFC ... 2026454177 18.84102566556607\n",
       "   science            HST         ACS/WFC ... 2026406687 18.84102566556607\n",
       "   science            HST         ACS/WFC ... 2026419194 18.84102566556607"
      ]
     },
     "execution_count": 55,
     "metadata": {},
     "output_type": "execute_result"
    }
   ],
   "source": [
    "ic10cole = ic10acsobs[ic10acsobs['proposal_id']=='10242']\n",
    "ic10cole"
   ]
  },
  {
   "cell_type": "code",
   "execution_count": null,
   "metadata": {},
   "outputs": [],
   "source": []
  }
 ],
 "metadata": {
  "kernelspec": {
   "display_name": "Python 3",
   "language": "python",
   "name": "python3"
  },
  "language_info": {
   "codemirror_mode": {
    "name": "ipython",
    "version": 3
   },
   "file_extension": ".py",
   "mimetype": "text/x-python",
   "name": "python",
   "nbconvert_exporter": "python",
   "pygments_lexer": "ipython3",
   "version": "3.7.3"
  }
 },
 "nbformat": 4,
 "nbformat_minor": 2
}
